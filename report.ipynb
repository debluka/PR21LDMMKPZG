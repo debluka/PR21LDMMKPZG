{
 "cells": [
  {
   "cell_type": "markdown",
   "metadata": {},
   "source": [
    "# Poročilo o analizi širitve kaznivih dejanj v Sloveniji skozi čas"
   ]
  },
  {
   "cell_type": "markdown",
   "metadata": {},
   "source": [
    "#### Datum: 18. 5. 2022"
   ]
  },
  {
   "cell_type": "markdown",
   "metadata": {},
   "source": [
    "## Člani skupine\n",
    "- Luka Debevec\n",
    "- Matej Medved\n",
    "- Klavdij Puntar\n",
    "- Žan Gartner"
   ]
  },
  {
   "cell_type": "markdown",
   "metadata": {},
   "source": [
    "## 1. Podatki\n",
    "- Vir: https://podatki.gov.si/dataset/mnzpkazniva-dejanja-od-leta-2009-dalje\n",
    "\n",
    "Na voljo so nam podatki o vseh kaznivih dejanjih v Sloveniji za katere je policija vložila kazensko ovadbo ali poročilo med letoma 2009 in 2019.\n",
    "\n",
    "Predstavljeni so v formatu CSV\n",
    "\n",
    "### Pomen atributov v zbirki\n",
    "Atribut | Opis\n",
    "-------- | -------- \n",
    "ZaporednaStevilkaKD | številka za štetje in ločevanje posameznega kaznivega dejanja\n",
    "MesecStoritve | datum storitve kaznivega dejanja (MM.LLLL)\n",
    "UraStoritve | ura storitve kaznivega dejanja (intervali)\n",
    "DanVTednu | dan v tednu\n",
    "PUStoritveKD | PU storitve kaznivega dejanja\n",
    "Povratnik | atribut o tem, ali je osumljenec policiji znan ali ne (povratnik)\n",
    "OpisKD | klasifikacija kaznivega dejanja (zakon/člen/odstavek/točka/alinea - tekst člena)\n",
    "PoglavjeKD | poglavje zakonika\n",
    "GospodarskiKriminal | vrsta kriminalitete (splošna/gospodarska)\n",
    "OrganiziranKriminal | vrsta kriminalitete (organizirana)\n",
    "MladoletniskaKriminaliteta | vrsta kriminalitete (mladoletniška)\n",
    "Poskus | dokončanost kaznivega dejanja\n",
    "KriminalisticnaOznacba1 | kriminalistična označba 1\n",
    "KriminalisticnaOznacba2 | kriminalistična označba 2\n",
    "KriminalisticnaOznacba3 | kriminalistična označba 3\n",
    "UporabljenoSredstvo1 | uporabljeno sredstvo 1\n",
    "UporabljenoSredstvo2 | uporabljeno sredstvo 2\n",
    "UporabljenoSredstvo3 | uporabljeno sredstvo 3\n",
    "UporabljenoSredstvo4 | uporabljeno sredstvo 4\n",
    "UpravnaEnotaStoritve | upravna enota, kjer je bilo storjeno kaznivo dejanje\n",
    "OpisKraja | podroben opis prizorišča kaznivega dejanja\n",
    "LetoZakljucnegaDokumenta | leto zaključnega dokumenta\n",
    "VrstaZakljucnegaDokumenta | vrsta zaključnega dokumenta\n",
    "ZaporednaStevilkaOsebeVKD | številka za štetje in ločevanje oseb, udeleženih v kaznivih dejanjih\n",
    "VrstaOsebe | kot kaj nastopa oseba v kaznivem dejanju\n",
    "StarostniRazred | starostni razred, ki mu oseba pripada ob storitvi kaznivega dejanja\n",
    "Spol | spol\n",
    "Drzavljanstvo | državljanstvo osebe (le slovensko in tuje)\n",
    "Poskodba | poškodba osebe\n",
    "VplivAlkohola | vpliv alkohola\n",
    "VplivMamil | vpliv mamil\n",
    "OrganiziranaZdruzba | pripadnost organizirani združbi\n",
    "Skoda | materialna škoda v EUR"
   ]
  },
  {
   "cell_type": "markdown",
   "metadata": {},
   "source": [
    "## 2. Priprava podatkov\n",
    "\n",
    "Vseh deset datotek, ki so ločene po letih smo združili in nato prebrali podatke v Python tabelo. Poskušali smo poenotiti kodni zapis podatkov, vendar nam to ni uspelo, saj so različne datoteke vsebovale različna kodiranja.\n",
    "\n",
    "Dodali smo stolpec, ki je služil kot poenostavitev tipov dejanj, saj nam je to omogočilo lažjo analizo in bolj pregledne rezultate."
   ]
  },
  {
   "cell_type": "markdown",
   "metadata": {},
   "source": [
    "# 3. Problem\n",
    "\n",
    "Glavna stvar, ki nas je zanimala je kako se kriminal glede na vrsto kaznivega dejanja razvija skozi časovna obdobja glede na policijske upravne enote. \n",
    "Obenem smo izvedli analize tudi na ostalih podatkih in prišli do sledečih ugotovitev."
   ]
  },
  {
   "cell_type": "markdown",
   "metadata": {},
   "source": [
    "# 3. Analiza podatkov\n",
    "\n",
    "## 3.1 Kazniva dejanja po letih\n",
    "\n",
    "![alt text](./Images/KD-po-letih.png \"Title\")\n",
    "\n",
    "Iz zgornjega grafa razberemo, da število prijavljenih kaznivih dejanj skozi leta pada. Iz tega lahko sklepamo, da stopnja varnosti v Sloveniji skozi čas raste. "
   ]
  },
  {
   "cell_type": "markdown",
   "metadata": {},
   "source": [
    "## 3.2 Kazniva dejanja skozi čas, ločeno po spolu\n",
    "\n",
    "![image info](./Images/KD_po_spolih.png)\n",
    "\n",
    "Glede na prejšnji graf nas je zanimalo, kako je spol vplival na število storjenih kaznivih dejanj skozi čas. Število kaznivih dejanj, ki jih povzročijo moški se bolj in bolj približuje številkam ženskega spola. Po teh podatkih lahko sklepamo, da bi ženske v prihodnosti lahko prehitele moške po številu kaznivih dejanj."
   ]
  },
  {
   "cell_type": "markdown",
   "metadata": {},
   "source": [
    "## 3.3 Porazdelitev po starostnih razredih\n",
    "\n",
    "![image info](./Images/porazdelitev-po-starostnih-razredih.png)\n",
    "\n",
    "V največ kaznivih dejanj so udeležene osebe v srednji starostni skupini. Zanimiv je tudi vzorec pri mlajši populaciji, ki je precej konstanten (vendar so vrste kaznivih dejanj v tem primeru milejše). "
   ]
  },
  {
   "cell_type": "markdown",
   "metadata": {},
   "source": [
    "## 3.4 Deljenje po času dneva\n",
    "![image info](./Images/po-urah.png)\n",
    "\n",
    "Večino kaznivih dejanj se zgodi sredi dneva, dve veliki odstopanji sta uri okoli polnoči (zaradi privzete ure vnosa, ko le ta ni izbrana)."
   ]
  },
  {
   "cell_type": "markdown",
   "metadata": {},
   "source": [
    "## 3.5 Prepovedane prehajanje meje oz. ozemlja države skozi čas\n",
    "\n",
    "![image info](./Images/preko-meje.png)\n",
    "\n",
    "Iz grafa lahko opazimo nekaj odstopanj, ki jih lahko razumemo kot migracije večjih skupin ljudi zaradi takih ali drugačnih razlogov."
   ]
  },
  {
   "cell_type": "markdown",
   "metadata": {},
   "source": [
    "## 3.6 Delež vrst kaznivih dejanj po policijskih upravah\n",
    "\n",
    "![image info](./Images/kazniva_dejanja_po_enotah.png)\n",
    "\n",
    "Iz grafa vidimo, da so po različnih enotah prisotna kazniva dejanja v različnih količinah (npr. v Murski soboti izstopa kršitev temeljnih pravic delavcev, v Ljubljani prevladuje količina tatvin, v Kopru pa so kršitve najbolj enakomerno porazdeljene)."
   ]
  },
  {
   "cell_type": "markdown",
   "metadata": {},
   "source": [
    "# 4. Animirani prikazi kaznivih dejanj skozi leta"
   ]
  },
  {
   "cell_type": "markdown",
   "metadata": {},
   "source": [
    "## 4.1 Poškodovanje tuje lastnine\n",
    "\n",
    "![image info](./GIFS/PO%C5%A0KODOVANJE%20TUJE%20STVARI.gif)\n",
    "\n",
    "Poškodovanje tuje lastnine je najbolj pogosto v okolici velikih mest (Ljubljana in Maribor)."
   ]
  },
  {
   "cell_type": "markdown",
   "metadata": {},
   "source": [
    "## 4.2 Nasilje v družini\n",
    "\n",
    "![image info](./GIFS/NASILJE%20V%20DRU%C5%BDINI.gif)\n",
    "\n",
    "Nasilje v družini je v Sloveniji porazdeljeno precej enakomerno, močno izstopa pa gorenjska regija, kjer je delež precej manjši."
   ]
  },
  {
   "cell_type": "markdown",
   "metadata": {},
   "source": [
    "## 4.3 Lahke telesne poškodbe\n",
    "\n",
    "![image info](./GIFS/LAHKA%20TELESNA%20PO%C5%A0KODBA.gif)\n",
    "\n",
    "Lahke telesne poškodbe zanimivo prevladujejo v vzhodnem delu Slovenije. Še najbolj izstopa Maribor in njegova okolica."
   ]
  },
  {
   "cell_type": "markdown",
   "metadata": {},
   "source": [
    "## 4.4 Odstotek kaznvih dejanj tujcev\n",
    "\n",
    "![image info](./GIFS/KDTUJCIpoLETIH.gif)\n",
    "\n",
    "Pri tem prikazu opazimo kratko povečanje v letu 2015 (predvsem v obmejnih območjih), ko je bila aktualna imigrantska kriza. "
   ]
  }
 ],
 "metadata": {
  "language_info": {
   "name": "python"
  },
  "orig_nbformat": 4
 },
 "nbformat": 4,
 "nbformat_minor": 2
}
