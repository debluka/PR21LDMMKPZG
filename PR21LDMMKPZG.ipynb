{
 "cells": [
  {
   "cell_type": "markdown",
   "metadata": {},
   "source": [
    "Uvoz knjižnic in branje podatkov iz datotek:"
   ]
  },
  {
   "cell_type": "code",
   "execution_count": 1,
   "metadata": {},
   "outputs": [],
   "source": [
    "import matplotlib.pyplot as plt\n",
    "from collections import defaultdict\n",
    "import pandas as pd\n",
    "import numpy as np"
   ]
  },
  {
   "cell_type": "code",
   "execution_count": 2,
   "metadata": {},
   "outputs": [
    {
     "name": "stderr",
     "output_type": "stream",
     "text": [
      "/tmp/ipykernel_42743/1644075804.py:2: DtypeWarning: Columns (14) have mixed types. Specify dtype option on import or set low_memory=False.\n",
      "  frames = [pd.read_csv(csv,sep=';', encoding=\"UTF-8\", dtype={'MesecStoritve': str}) for csv in list_of_cvs]\n",
      "/tmp/ipykernel_42743/1644075804.py:2: DtypeWarning: Columns (14,17,18) have mixed types. Specify dtype option on import or set low_memory=False.\n",
      "  frames = [pd.read_csv(csv,sep=';', encoding=\"UTF-8\", dtype={'MesecStoritve': str}) for csv in list_of_cvs]\n"
     ]
    }
   ],
   "source": [
    "list_of_cvs = [\"./podatki/kd{}.csv\".format(i) for i in range(2010,2020)]\n",
    "frames = [pd.read_csv(csv,sep=';', encoding=\"UTF-8\", dtype={'MesecStoritve': str}) for csv in list_of_cvs]\n",
    "df = pd.concat(frames)"
   ]
  },
  {
   "cell_type": "code",
   "execution_count": null,
   "metadata": {},
   "outputs": [],
   "source": []
  }
 ],
 "metadata": {
  "interpreter": {
   "hash": "f7b61ccd47a9e364be386714f999f9d62e0ad02ce9d4a287ede88a2de543110b"
  },
  "kernelspec": {
   "display_name": "Python 3 (ipykernel)",
   "language": "python",
   "name": "python3"
  },
  "language_info": {
   "codemirror_mode": {
    "name": "ipython",
    "version": 3
   },
   "file_extension": ".py",
   "mimetype": "text/x-python",
   "name": "python",
   "nbconvert_exporter": "python",
   "pygments_lexer": "ipython3",
   "version": "3.8.10"
  }
 },
 "nbformat": 4,
 "nbformat_minor": 2
}
