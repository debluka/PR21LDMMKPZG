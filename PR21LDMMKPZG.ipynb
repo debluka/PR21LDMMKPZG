{
 "cells": [
  {
   "cell_type": "markdown",
   "metadata": {},
   "source": [
    "Uvoz knjižnic in branje podatkov iz datotek:"
   ]
  },
  {
   "cell_type": "code",
   "execution_count": 1,
   "metadata": {},
   "outputs": [],
   "source": [
    "import matplotlib.pyplot as plt\n",
    "from collections import defaultdict\n",
    "import pandas as pd\n",
    "import numpy as np"
   ]
  },
  {
   "cell_type": "code",
   "execution_count": 2,
   "metadata": {},
   "outputs": [
    {
     "name": "stderr",
     "output_type": "stream",
     "text": [
      "C:\\Users\\Uporabnik\\AppData\\Local\\Temp\\ipykernel_10268\\1644075804.py:2: DtypeWarning: Columns (14) have mixed types. Specify dtype option on import or set low_memory=False.\n",
      "  frames = [pd.read_csv(csv,sep=';', encoding=\"UTF-8\", dtype={'MesecStoritve': str}) for csv in list_of_cvs]\n",
      "C:\\Users\\Uporabnik\\AppData\\Local\\Temp\\ipykernel_10268\\1644075804.py:2: DtypeWarning: Columns (14,17,18) have mixed types. Specify dtype option on import or set low_memory=False.\n",
      "  frames = [pd.read_csv(csv,sep=';', encoding=\"UTF-8\", dtype={'MesecStoritve': str}) for csv in list_of_cvs]\n"
     ]
    }
   ],
   "source": [
    "list_of_cvs = [\"./podatki/kd{}.csv\".format(i) for i in range(2010,2020)]\n",
    "frames = [pd.read_csv(csv,sep=';', encoding=\"UTF-8\", dtype={'MesecStoritve': str}) for csv in list_of_cvs]\n",
    "df = pd.concat(frames)"
   ]
  },
  {
   "cell_type": "code",
   "execution_count": 3,
   "metadata": {},
   "outputs": [
    {
     "data": {
      "text/plain": [
       "' plt.figure(figsize=(15,10))\\nplt.plot(mesec,counter)\\nplt.show() '"
      ]
     },
     "execution_count": 3,
     "metadata": {},
     "output_type": "execute_result"
    }
   ],
   "source": [
    "#group by mesec, count unique id\n",
    "kd_leto = df.groupby(['MesecStoritve', 'UraStoritve','ZaporednaStevilkaKD'])\n",
    "leto_counter = defaultdict(int)\n",
    "\n",
    "for name,v in kd_leto:\n",
    "    index = int((name[0].split(\".\")[1]))\n",
    "    if index >= 2010 and index < 2020:\n",
    "        leto_counter[index] +=1\n",
    "    \n",
    "\n",
    "\n",
    "list_mes_counter = sorted(leto_counter.items())\n",
    "mesec, counter = zip(*list_mes_counter)\n",
    "\"\"\" plt.figure(figsize=(15,10))\n",
    "plt.plot(mesec,counter)\n",
    "plt.show() \"\"\""
   ]
  },
  {
   "cell_type": "code",
   "execution_count": 4,
   "metadata": {},
   "outputs": [
    {
     "data": {
      "text/plain": [
       "defaultdict(<function __main__.<lambda>()>,\n",
       "            {'1.000 - 10.000 EUR': defaultdict(int,\n",
       "                         {'00-07': 130,\n",
       "                          '07-14': 245,\n",
       "                          '14-16': 172,\n",
       "                          '16-18': 327,\n",
       "                          '18-24': 2718,\n",
       "                          '24-34': 11476,\n",
       "                          '34-44': 15831,\n",
       "                          '44-54': 15437,\n",
       "                          '54-64': 11420,\n",
       "                          'NAD 64': 8733,\n",
       "                          'NI PODATKA': 45,\n",
       "                          'NI POJAVA': 7,\n",
       "                          'PRAVNA OSEBA': 34901}),\n",
       "             '10.000 - 100.000 EUR': defaultdict(int,\n",
       "                         {'00-07': 4,\n",
       "                          '07-14': 26,\n",
       "                          '14-16': 17,\n",
       "                          '16-18': 18,\n",
       "                          '18-24': 247,\n",
       "                          '24-34': 1688,\n",
       "                          '34-44': 2729,\n",
       "                          '44-54': 2756,\n",
       "                          '54-64': 2117,\n",
       "                          'NAD 64': 1508,\n",
       "                          'NI PODATKA': 16,\n",
       "                          'PRAVNA OSEBA': 11604}),\n",
       "             '100 - 1.000 EUR': defaultdict(int,\n",
       "                         {'00-07': 2030,\n",
       "                          '07-14': 3584,\n",
       "                          '14-16': 2275,\n",
       "                          '16-18': 4063,\n",
       "                          '18-24': 18431,\n",
       "                          '24-34': 33183,\n",
       "                          '34-44': 37573,\n",
       "                          '44-54': 34631,\n",
       "                          '54-64': 27339,\n",
       "                          'NAD 64': 26222,\n",
       "                          'NI PODATKA': 78,\n",
       "                          'NI POJAVA': 13,\n",
       "                          'PRAVNA OSEBA': 61653}),\n",
       "             '100.000 - 500.000 EUR': defaultdict(int,\n",
       "                         {'00-07': 1,\n",
       "                          '07-14': 2,\n",
       "                          '14-16': 1,\n",
       "                          '18-24': 9,\n",
       "                          '24-34': 77,\n",
       "                          '34-44': 206,\n",
       "                          '44-54': 245,\n",
       "                          '54-64': 188,\n",
       "                          'NAD 64': 173,\n",
       "                          'NI PODATKA': 6,\n",
       "                          'PRAVNA OSEBA': 2303}),\n",
       "             'BREZ': defaultdict(int,\n",
       "                         {'00-07': 6593,\n",
       "                          '07-14': 9964,\n",
       "                          '14-16': 10491,\n",
       "                          '16-18': 14715,\n",
       "                          '18-24': 45554,\n",
       "                          '24-34': 74835,\n",
       "                          '34-44': 77155,\n",
       "                          '44-54': 66365,\n",
       "                          '54-64': 43748,\n",
       "                          'NAD 64': 23146,\n",
       "                          'NI PODATKA': 1250,\n",
       "                          'NI POJAVA': 46,\n",
       "                          'PRAVNA OSEBA': 40828}),\n",
       "             'DO 100 EUR': defaultdict(int,\n",
       "                         {'00-07': 1620,\n",
       "                          '07-14': 2283,\n",
       "                          '14-16': 1367,\n",
       "                          '16-18': 2076,\n",
       "                          '18-24': 8113,\n",
       "                          '24-34': 17159,\n",
       "                          '34-44': 18599,\n",
       "                          '44-54': 16362,\n",
       "                          '54-64': 13272,\n",
       "                          'NAD 64': 12787,\n",
       "                          'NI PODATKA': 38,\n",
       "                          'NI POJAVA': 12,\n",
       "                          'PRAVNA OSEBA': 67572}),\n",
       "             'NAD 500.000 EUR': defaultdict(int,\n",
       "                         {'18-24': 2,\n",
       "                          '24-34': 12,\n",
       "                          '34-44': 27,\n",
       "                          '44-54': 41,\n",
       "                          '54-64': 35,\n",
       "                          'NAD 64': 27,\n",
       "                          'PRAVNA OSEBA': 1144})})"
      ]
     },
     "execution_count": 4,
     "metadata": {},
     "output_type": "execute_result"
    }
   ],
   "source": [
    "pijaniMladoletniki = df.groupby(['StarostniRazred', 'Skoda'])\n",
    "skodaStarostStevilo = defaultdict(lambda: defaultdict(int))\n",
    "for name, v in pijaniMladoletniki:\n",
    "    skodaStarostStevilo[name[1]][name[0]] = len(v['ZaporednaStevilkaKD'].unique())\n",
    "\n",
    "skodaStarostStevilo"
   ]
  },
  {
   "cell_type": "code",
   "execution_count": 5,
   "metadata": {},
   "outputs": [],
   "source": [
    "def wihtout_keys(d, keys):\n",
    "    return {x: d[x] for x in d if x not in keys}"
   ]
  },
  {
   "cell_type": "code",
   "execution_count": 6,
   "metadata": {},
   "outputs": [
    {
     "name": "stdout",
     "output_type": "stream",
     "text": [
      "Vrednost: 1.000 - 10.000 EUR \n",
      " Starost: ('34-44', 15831)\n",
      " Delež:23.79 %\n",
      "Vrednost: 10.000 - 100.000 EUR \n",
      " Starost: ('44-54', 2756)\n",
      " Delež:24.77 %\n",
      "Vrednost: 100 - 1.000 EUR \n",
      " Starost: ('34-44', 37573)\n",
      " Delež:19.84 %\n",
      "Vrednost: 100.000 - 500.000 EUR \n",
      " Starost: ('44-54', 245)\n",
      " Delež:26.98 %\n",
      "Vrednost: BREZ \n",
      " Starost: ('34-44', 77155)\n",
      " Delež:20.64 %\n",
      "Vrednost: DO 100 EUR \n",
      " Starost: ('34-44', 18599)\n",
      " Delež:19.85 %\n",
      "Vrednost: NAD 500.000 EUR \n",
      " Starost: ('44-54', 41)\n",
      " Delež:28.47 %\n"
     ]
    }
   ],
   "source": [
    "## Največji kršitelji po rangu vrednosti v procentih. BREZ PRAVNIH OSEB\n",
    "import operator\n",
    "invalid = {\"PRAVNA OSEBA\"}\n",
    "for k, v in skodaStarostStevilo.items():\n",
    "    v = wihtout_keys(v, invalid)\n",
    "    print(\"Vrednost: %s \\n Starost: %s\\n Delež:%.2f %%\" % (k, max(v.items(), key=operator.itemgetter(1)), max(v.values())/sum(v.values())*100))"
   ]
  },
  {
   "cell_type": "code",
   "execution_count": 7,
   "metadata": {},
   "outputs": [],
   "source": [
    "#Dictionary ENOTA{kaznivo dejanje: stevilo teh dejanj}\n",
    "#idea Porazdelitev vrst kaznivih dejanj po posamezni enoti/občini/karkol se jim reče\n",
    "\n",
    "#ZaporednaStevilkaKD;MesecStoritve;UraStoritve;OpisKD\n",
    "\n",
    "kd_leto = df.groupby(['MesecStoritve', 'UraStoritve','ZaporednaStevilkaKD', 'OpisKD', 'PUStoritveKD'])\n",
    "\n",
    "kraj_dejanje = defaultdict(lambda: defaultdict(int))\n",
    "for k, v in kd_leto:\n",
    "    #print(k, len(v))\n",
    "    kraj_dejanje[k[-1]][k[-2].split(\" - \")[1]] += len(v)"
   ]
  },
  {
   "cell_type": "markdown",
   "metadata": {},
   "source": [
    "('01.1944', '00:00-00:59', 15723, 'KZ08/101-/1// - HUDODELSTVA ZOPER ÈLOVEÈNOST', 'PU KRANJ') 1\n",
    "('01.1978', '00:00-00:59', 75804, 'KZ08/173-/1// - SPOLNI NAPAD NA OSEBO,  MLAJŠO OD PETNAJST LET', 'PU KRANJ') 2\n",
    "('01.1979', '00:00-00:59', 45042, 'KZ12/118*/1// - POVZROÈITEV SMRTI IZ MALOMARNOSTI', 'PU MURSKA SOBOTA') 2\n",
    "('01.1981', '00:00-00:59', 42610, 'KZ08/173-/3// - SPOLNI NAPAD NA OSEBO,  MLAJŠO OD PETNAJST LET', 'PU NOVO MESTO') 1\n",
    "('01.1982', '00:00-00:59', 22407, 'KZ08/211-/1/S/ - GOLJUFIJA', 'PU LJUBLJANA') 2\n",
    "('01.1982', '00:00-00:59', 24932, 'KD02/103/1// - SPOLNI NAPAD NA OSEBO MLAJŠO OD 14 LET', 'PU LJUBLJANA') 2\n",
    "('01.1983', '10:00-10:59', 3308, 'KD02/103/1// - SPOLNI NAPAD NA OSEBO MLAJŠO OD 14 LET', 'PU KOPER') 2\n",
    "('01.1984', '12:00-12:59', 9552, 'KZ12/173*/3// - SPOLNI NAPAD NA OSEBO,  MLAJŠO OD PETNAJST LET', 'PU NOVO MESTO') 2\n",
    "('01.1984', '23:00-23:59', 40075, 'KZ08/173-/1// - SPOLNI NAPAD NA OSEBO,  MLAJŠO OD PETNAJST LET', 'PU KOPER') 2"
   ]
  },
  {
   "cell_type": "code",
   "execution_count": 8,
   "metadata": {},
   "outputs": [],
   "source": [
    "df[\"TIP-DEJANJA\"] = df.apply(lambda row: row[\"OpisKD\"].split(\" - \")[1], axis=1)\n",
    "kd = df.groupby([\"TIP-DEJANJA\"])\n",
    "\n",
    "\n",
    "##TOP 10 KAZNIVIH DEJANJ, ki jih bomo izrisali na grafu\n",
    "top10 = sorted([(k, len(v)) for k, v in kd], key = lambda x: x[1], reverse=True)[:10]\n",
    "top10Dejanja = [x[0] for x in top10]"
   ]
  },
  {
   "cell_type": "code",
   "execution_count": 9,
   "metadata": {},
   "outputs": [
    {
     "data": {
      "text/plain": [
       "['TATVINA',\n",
       " 'VELIKA TATVINA',\n",
       " 'GOLJUFIJA',\n",
       " 'KRŠITEV TEMELJNIH PRAVIC DELAVCEV',\n",
       " 'POSLOVNA GOLJUFIJA',\n",
       " 'POŠKODOVANJE TUJE STVARI',\n",
       " 'NEPLAÈEVANJE PREŽIVNINE',\n",
       " 'NASILJE V DRUŽINI',\n",
       " 'GROŽNJA',\n",
       " 'LAHKA TELESNA POŠKODBA']"
      ]
     },
     "execution_count": 9,
     "metadata": {},
     "output_type": "execute_result"
    }
   ],
   "source": [
    "top10Dejanja"
   ]
  },
  {
   "cell_type": "code",
   "execution_count": 10,
   "metadata": {},
   "outputs": [
    {
     "name": "stdout",
     "output_type": "stream",
     "text": [
      "PU KRANJ:  95341\n",
      "\tVELIKA TATVINA : 11434  11.992742%\n",
      "\tTATVINA : 23025  24.150156%\n",
      "\tPOŠKODOVANJE TUJE STVARI : 4653  4.880377%\n",
      "\tPOSLOVNA GOLJUFIJA : 5371  5.633463%\n",
      "\tNEPLAÈEVANJE PREŽIVNINE : 6576  6.897347%\n",
      "\tNASILJE V DRUŽINI : 1719  1.803002%\n",
      "\tLAHKA TELESNA POŠKODBA : 2758  2.892774%\n",
      "\tKRŠITEV TEMELJNIH PRAVIC DELAVCEV : 2307  2.419735%\n",
      "\tGROŽNJA : 2774  2.909556%\n",
      "\tGOLJUFIJA : 6483  6.799803%\n",
      "\tOSTALO: 28241  29.621044%\n",
      "\n",
      "\n",
      "PU MURSKA SOBOTA:  65207\n",
      "\tVELIKA TATVINA : 4840  7.422516%\n",
      "\tTATVINA : 10474  16.062693%\n",
      "\tPOŠKODOVANJE TUJE STVARI : 2568  3.938227%\n",
      "\tPOSLOVNA GOLJUFIJA : 2148  3.294125%\n",
      "\tNEPLAÈEVANJE PREŽIVNINE : 2412  3.698989%\n",
      "\tNASILJE V DRUŽINI : 2752  4.220406%\n",
      "\tLAHKA TELESNA POŠKODBA : 2137  3.277256%\n",
      "\tKRŠITEV TEMELJNIH PRAVIC DELAVCEV : 12867  19.732544%\n",
      "\tGROŽNJA : 2222  3.407610%\n",
      "\tGOLJUFIJA : 4795  7.353505%\n",
      "\tOSTALO: 17992  27.592130%\n",
      "\n",
      "\n",
      "PU NOVO MESTO:  109241\n",
      "\tVELIKA TATVINA : 13005  11.904871%\n",
      "\tTATVINA : 24797  22.699353%\n",
      "\tPOŠKODOVANJE TUJE STVARI : 4360  3.991175%\n",
      "\tPOSLOVNA GOLJUFIJA : 3640  3.332082%\n",
      "\tNEPLAÈEVANJE PREŽIVNINE : 585  0.535513%\n",
      "\tNASILJE V DRUŽINI : 3594  3.289974%\n",
      "\tLAHKA TELESNA POŠKODBA : 3807  3.484955%\n",
      "\tKRŠITEV TEMELJNIH PRAVIC DELAVCEV : 9020  8.256973%\n",
      "\tGROŽNJA : 4553  4.167849%\n",
      "\tGOLJUFIJA : 6685  6.119497%\n",
      "\tOSTALO: 35195  32.217757%\n",
      "\n",
      "\n",
      "PU LJUBLJANA:  603550\n",
      "\tVELIKA TATVINA : 93715  15.527297%\n",
      "\tTATVINA : 178965  29.652059%\n",
      "\tPOŠKODOVANJE TUJE STVARI : 24602  4.076216%\n",
      "\tPOSLOVNA GOLJUFIJA : 42746  7.082429%\n",
      "\tNEPLAÈEVANJE PREŽIVNINE : 25740  4.264767%\n",
      "\tNASILJE V DRUŽINI : 12947  2.145141%\n",
      "\tLAHKA TELESNA POŠKODBA : 8579  1.421423%\n",
      "\tKRŠITEV TEMELJNIH PRAVIC DELAVCEV : 35432  5.870599%\n",
      "\tGROŽNJA : 10274  1.702262%\n",
      "\tGOLJUFIJA : 29307  4.855770%\n",
      "\tOSTALO: 141243  23.402038%\n",
      "\n",
      "\n",
      "PU KOPER:  96347\n",
      "\tVELIKA TATVINA : 12592  13.069426%\n",
      "\tTATVINA : 26349  27.348023%\n",
      "\tPOŠKODOVANJE TUJE STVARI : 5072  5.264305%\n",
      "\tPOSLOVNA GOLJUFIJA : 2790  2.895783%\n",
      "\tNEPLAÈEVANJE PREŽIVNINE : 458  0.475365%\n",
      "\tNASILJE V DRUŽINI : 2724  2.827281%\n",
      "\tLAHKA TELESNA POŠKODBA : 2204  2.287565%\n",
      "\tKRŠITEV TEMELJNIH PRAVIC DELAVCEV : 2339  2.427683%\n",
      "\tGROŽNJA : 3242  3.364921%\n",
      "\tGOLJUFIJA : 4760  4.940476%\n",
      "\tOSTALO: 33817  35.099173%\n",
      "\n",
      "\n",
      "PU MARIBOR:  182541\n",
      "\tVELIKA TATVINA : 23784  13.029402%\n",
      "\tTATVINA : 42781  23.436379%\n",
      "\tPOŠKODOVANJE TUJE STVARI : 11449  6.272016%\n",
      "\tPOSLOVNA GOLJUFIJA : 8184  4.483376%\n",
      "\tNEPLAÈEVANJE PREŽIVNINE : 8152  4.465846%\n",
      "\tNASILJE V DRUŽINI : 6925  3.793668%\n",
      "\tLAHKA TELESNA POŠKODBA : 7249  3.971163%\n",
      "\tKRŠITEV TEMELJNIH PRAVIC DELAVCEV : 5938  3.252968%\n",
      "\tGROŽNJA : 7333  4.017180%\n",
      "\tGOLJUFIJA : 12311  6.744238%\n",
      "\tOSTALO: 48435  26.533765%\n",
      "\n",
      "\n",
      "PU NOVA GORICA:  43735\n",
      "\tVELIKA TATVINA : 6018  13.760146%\n",
      "\tTATVINA : 10466  23.930490%\n",
      "\tPOŠKODOVANJE TUJE STVARI : 2842  6.498228%\n",
      "\tPOSLOVNA GOLJUFIJA : 1137  2.599748%\n",
      "\tNEPLAÈEVANJE PREŽIVNINE : 224  0.512176%\n",
      "\tNASILJE V DRUŽINI : 1587  3.628673%\n",
      "\tLAHKA TELESNA POŠKODBA : 1102  2.519721%\n",
      "\tKRŠITEV TEMELJNIH PRAVIC DELAVCEV : 746  1.705728%\n",
      "\tGROŽNJA : 2218  5.071453%\n",
      "\tGOLJUFIJA : 2138  4.888533%\n",
      "\tOSTALO: 15257  34.885103%\n",
      "\n",
      "\n",
      "PU CELJE:  162876\n",
      "\tVELIKA TATVINA : 19675  12.079742%\n",
      "\tTATVINA : 35151  21.581448%\n",
      "\tPOŠKODOVANJE TUJE STVARI : 7476  4.589995%\n",
      "\tPOSLOVNA GOLJUFIJA : 6255  3.840345%\n",
      "\tNEPLAÈEVANJE PREŽIVNINE : 929  0.570373%\n",
      "\tNASILJE V DRUŽINI : 7542  4.630516%\n",
      "\tLAHKA TELESNA POŠKODBA : 5980  3.671505%\n",
      "\tKRŠITEV TEMELJNIH PRAVIC DELAVCEV : 12228  7.507552%\n",
      "\tGROŽNJA : 6959  4.272575%\n",
      "\tGOLJUFIJA : 12478  7.661043%\n",
      "\tOSTALO: 48203  29.594907%\n",
      "\n",
      "\n"
     ]
    }
   ],
   "source": [
    "vse = 0\n",
    "KD_procenti = defaultdict(list)\n",
    "\n",
    "for kraj, slovar in kraj_dejanje.items():\n",
    "    if kraj in [\"GPU\", \"DIREKTORAT ZA UPRAVNE NOTRANJE ZADEVE\", \"NI PODATKA\"]: continue\n",
    "    tmp = sorted([(k, v) for k, v in slovar.items()], key=lambda x: x[0])[::-1] # LIST OF TUPLES => (TATVINA : 23025)\n",
    "    stevilo = sum([x[1] for x in tmp])\n",
    "    print(\"%s:  %d\" % (kraj, stevilo))\n",
    "    procenti = 0\n",
    "    ostalo = 0\n",
    "    for x in tmp:\n",
    "        if x[0] in top10Dejanja:\n",
    "            procenti += x[1]/stevilo*100\n",
    "            KD_procenti[x[0]].append(x[1]/stevilo*100)\n",
    "            print(\"\\t%s : %d  %f%%\" % (x[0], x[1], x[1]/stevilo*100))\n",
    "            vse += x[1]\n",
    "            ostalo += x[1]\n",
    "    KD_procenti[\"OSTALO\"].append(100 - procenti)\n",
    "    print(\"\\tOSTALO: %d  %f%%\" % (stevilo - ostalo, 100 - procenti))\n",
    "    print(\"\\n\")"
   ]
  },
  {
   "cell_type": "code",
   "execution_count": 11,
   "metadata": {},
   "outputs": [],
   "source": [
    "#https://stackoverflow.com/a/50205834\n",
    "import numpy as np\n",
    "import matplotlib.pyplot as plt\n",
    "\n",
    "def plot_stacked_bar(data, series_labels, category_labels=None, \n",
    "                     show_values=False, value_format=\"{}\", y_label=None, \n",
    "                     colors=None, grid=False, reverse=False):\n",
    "    \"\"\"Plots a stacked bar chart with the data and labels provided.\n",
    "\n",
    "    Keyword arguments:\n",
    "    data            -- 2-dimensional numpy array or nested list\n",
    "                       containing data for each series in rows\n",
    "    series_labels   -- list of series labels (these appear in\n",
    "                       the legend)\n",
    "    category_labels -- list of category labels (these appear\n",
    "                       on the x-axis)\n",
    "    show_values     -- If True then numeric value labels will \n",
    "                       be shown on each bar\n",
    "    value_format    -- Format string for numeric value labels\n",
    "                       (default is \"{}\")\n",
    "    y_label         -- Label for y-axis (str)\n",
    "    colors          -- List of color labels\n",
    "    grid            -- If True display grid\n",
    "    reverse         -- If True reverse the order that the\n",
    "                       series are displayed (left-to-right\n",
    "                       or right-to-left)\n",
    "    \"\"\"\n",
    "\n",
    "    ny = len(data[0])\n",
    "    ind = list(range(ny))\n",
    "\n",
    "    axes = []\n",
    "    cum_size = np.zeros(ny)\n",
    "\n",
    "    data = np.array(data)\n",
    "\n",
    "    if reverse:\n",
    "        data = np.flip(data, axis=1)\n",
    "        category_labels = reversed(category_labels)\n",
    "\n",
    "    for i, row_data in enumerate(data):\n",
    "        color = colors[i] if colors is not None else None\n",
    "        axes.append(plt.bar(ind, row_data, bottom=cum_size, \n",
    "                            label=series_labels[i], color=color))\n",
    "        cum_size += row_data\n",
    "\n",
    "    if category_labels:\n",
    "        plt.xticks(ind, category_labels)\n",
    "\n",
    "    if y_label:\n",
    "        plt.ylabel(y_label)\n",
    "\n",
    "    plt.legend()\n",
    "\n",
    "    if grid:\n",
    "        plt.grid()\n",
    "\n",
    "    if show_values:\n",
    "        for axis in axes:\n",
    "            for bar in axis:\n",
    "                w, h = bar.get_width(), bar.get_height()\n",
    "                plt.text(bar.get_x() + w/2, bar.get_y() + h/2, \n",
    "                         value_format.format(h), ha=\"center\", \n",
    "                         va=\"center\")"
   ]
  },
  {
   "cell_type": "code",
   "execution_count": 12,
   "metadata": {},
   "outputs": [],
   "source": [
    "colorss = [\n",
    "'white',\n",
    "'black',\n",
    "'grey',\n",
    "'yellow',\n",
    "'red',\n",
    "'blue',\n",
    "'green',\n",
    "'brown',\n",
    "'oink',\n",
    "'orange',\n",
    "'purple']"
   ]
  },
  {
   "cell_type": "code",
   "execution_count": 13,
   "metadata": {},
   "outputs": [
    {
     "data": {
      "image/png": "[encoded data removed]",
      "text/plain": [
       "<Figure size 640x480 with 1 Axes>"
      ]
     },
     "metadata": {
      "needs_background": "light"
     },
     "output_type": "display_data"
    },
    {
     "data": {
      "text/plain": [
       "' fig, ax = plt.subplots()\\n\\nax.set_ylabel(\"Delez dejanja\")\\nax.set_title(\"Delez kaznivih dejanj po PU\")\\nax.legend()\\nplt.show() '"
      ]
     },
     "execution_count": 13,
     "metadata": {},
     "output_type": "execute_result"
    }
   ],
   "source": [
    "import numpy as np\n",
    "import matplotlib.pyplot as plt\n",
    "import matplotlib\n",
    "header = ['VELIKA TATVINA', 'TATVINA', 'POŠKODOVANJE TUJE STVARI', 'POSLOVNA GOLJUFIJA', 'NEPLAÈEVANJE PREŽIVNINE', 'NASILJE V DRUŽINI', 'LAHKA TELESNA POŠKODBA', 'KRŠITEV TEMELJNIH PRAVIC DELAVCEV', 'GROŽNJA', 'GOLJUFIJA', 'OSTALO']\n",
    "labels = [kraj for kraj, slovar in kraj_dejanje.items() if kraj not in [\"GPU\", \"DIREKTORAT ZA UPRAVNE NOTRANJE ZADEVE\", \"NI PODATKA\"]]\n",
    "dataset = [v for k,v in KD_procenti.items()]\n",
    "\n",
    "plt.figure(figsize=(8, 6), dpi=80)\n",
    "plot_stacked_bar(\n",
    "    dataset,\n",
    "    header,\n",
    "    category_labels=labels,\n",
    "    show_values=True,\n",
    "    value_format=\"{:.1f}\",\n",
    "    y_label= \"Delez dejanja [%]\",\n",
    ")\n",
    "\n",
    "l4 = plt.legend(bbox_to_anchor=(0,1.02,1,0.2), loc=\"lower left\",\n",
    "                mode=\"expand\", borderaxespad=0, ncol=2)\n",
    "plt.xticks(rotation=90)\n",
    "plt.show()\n",
    "\n",
    "\n",
    "\"\"\" fig, ax = plt.subplots()\n",
    "\n",
    "ax.set_ylabel(\"Delez dejanja\")\n",
    "ax.set_title(\"Delez kaznivih dejanj po PU\")\n",
    "ax.legend()\n",
    "plt.show() \"\"\"\n"
   ]
  },
  {
   "cell_type": "code",
   "execution_count": 14,
   "metadata": {},
   "outputs": [
    {
     "name": "stdout",
     "output_type": "stream",
     "text": [
      "['PU KRANJ', 'PU MURSKA SOBOTA', 'PU NOVO MESTO', 'PU LJUBLJANA', 'PU KOPER', 'PU MARIBOR', 'PU NOVA GORICA', 'PU CELJE']\n"
     ]
    }
   ],
   "source": [
    "print(labels)"
   ]
  }
 ],
 "metadata": {
  "interpreter": {
   "hash": "387d60c8761f370b7f7ba5659dccf1e3b6ab3e6fcdc49b65086dfce393770dcf"
  },
  "kernelspec": {
   "display_name": "Python 3.9.0 64-bit",
   "language": "python",
   "name": "python3"
  },
  "language_info": {
   "codemirror_mode": {
    "name": "ipython",
    "version": 3
   },
   "file_extension": ".py",
   "mimetype": "text/x-python",
   "name": "python",
   "nbconvert_exporter": "python",
   "pygments_lexer": "ipython3",
   "version": "3.9.0"
  }
 },
 "nbformat": 4,
 "nbformat_minor": 2
}
