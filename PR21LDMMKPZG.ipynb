{
 "cells": [
  {
   "cell_type": "markdown",
   "metadata": {},
   "source": [
    "Branje podatkov iz datotek in uvoz knjižnic:"
   ]
  },
  {
   "cell_type": "code",
   "execution_count": null,
   "metadata": {},
   "outputs": [],
   "source": [
    "import matplotlib.pyplot as plt\n",
    "from collections import defaultdict\n",
    "import pandas as pd\n",
    "import numpy as np\n"
   ]
  },
  {
   "cell_type": "code",
   "execution_count": null,
   "metadata": {},
   "outputs": [],
   "source": [
    "list_of_cvs = [\"./podatki/kd{}.csv\".format(i) for i in range(2010,2020)]\n",
    "frames = [pd.read_csv(csv,sep=';', encoding=\"ANSI\") for csv in list_of_cvs]\n",
    "df = pd.concat(frames)\n"
   ]
  },
  {
   "cell_type": "markdown",
   "metadata": {},
   "source": [
    "Količina vpletenih v posamezna kazniva dejanja:"
   ]
  },
  {
   "cell_type": "code",
   "execution_count": null,
   "metadata": {},
   "outputs": [],
   "source": [
    "#Stevilo vpletenih v dejanje\n",
    "size = df.groupby(['MesecStoritve', 'UraStoritve','ZaporednaStevilkaKD'])\n",
    "vpletenih = size.size()\n",
    "print(vpletenih.agg([\"min\",\"max\",\"mean\"]))\n",
    "plt.hist(vpletenih, bins=500)\n",
    "plt.show()\n"
   ]
  },
  {
   "cell_type": "markdown",
   "metadata": {},
   "source": [
    "Kazniva dejanja po mesecih:"
   ]
  },
  {
   "cell_type": "code",
   "execution_count": null,
   "metadata": {},
   "outputs": [],
   "source": [
    "#group by mesec, count unique id\n",
    "kd_mes = df.groupby(['MesecStoritve', 'UraStoritve','ZaporednaStevilkaKD']).first()\n",
    "mes_counter = defaultdict(int)\n",
    "\n",
    "for v in kd_mes.values:\n",
    "    print(v)\n",
    "    #print((v.astype(str)).split(\".\")[0])\n",
    "    #mes_counter[int(v.astype(str).split(\".\")[0].strip())] +=1\n",
    "\n",
    "\"\"\" list_mes_counter = sorted(mes_counter.items())\n",
    "mesec, counter = zip(*list_mes_counter)\n",
    "plt.plot(mesec,counter)\n",
    "plt.show() \"\"\""
   ]
  }
 ],
 "metadata": {
  "interpreter": {
   "hash": "f7b61ccd47a9e364be386714f999f9d62e0ad02ce9d4a287ede88a2de543110b"
  },
  "kernelspec": {
   "display_name": "Python 3.8.2 64-bit (system)",
   "language": "python",
   "name": "python3"
  },
  "language_info": {
   "codemirror_mode": {
    "name": "ipython",
    "version": 3
   },
   "file_extension": ".py",
   "mimetype": "text/x-python",
   "name": "python",
   "nbconvert_exporter": "python",
   "pygments_lexer": "ipython3",
   "version": "3.8.2"
  },
  "orig_nbformat": 4
 },
 "nbformat": 4,
 "nbformat_minor": 2
}
