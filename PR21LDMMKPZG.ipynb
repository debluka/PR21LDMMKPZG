{
 "cells": [
  {
   "cell_type": "markdown",
   "metadata": {},
   "source": [
    "Uvoz knjižnic in branje podatkov iz datotek:"
   ]
  },
  {
   "cell_type": "code",
   "execution_count": null,
   "metadata": {},
   "outputs": [],
   "source": [
    "import matplotlib.pyplot as plt\n",
    "from collections import defaultdict\n",
    "import pandas as pd\n",
    "import numpy as np"
   ]
  },
  {
   "cell_type": "code",
   "execution_count": null,
   "metadata": {},
   "outputs": [],
   "source": [
    "list_of_cvs = [\"./podatki/kd{}.csv\".format(i) for i in range(2010,2020)]\n",
    "frames = [pd.read_csv(csv,sep=';', encoding=\"UTF-8\", dtype={'MesecStoritve': str}) for csv in list_of_cvs]\n",
    "df = pd.concat(frames)"
   ]
  },
  {
   "cell_type": "code",
   "execution_count": null,
   "metadata": {},
   "outputs": [],
   "source": []
  },
  {
   "cell_type": "markdown",
   "metadata": {},
   "source": [
    "Kazniva dejanja po letih:"
   ]
  },
  {
   "cell_type": "code",
   "execution_count": null,
   "metadata": {},
   "outputs": [],
   "source": [
    "#group by mesec, count unique id\n",
    "kd_leto = df.groupby(['MesecStoritve', 'UraStoritve','ZaporednaStevilkaKD'])\n",
    "leto_counter = defaultdict(int)\n",
    "\n",
    "for name,v in kd_leto:\n",
    "    index = int((name[0].split(\".\")[1]))\n",
    "    if index >= 2010 and index < 2020:\n",
    "        leto_counter[index] +=1\n",
    "    \n",
    "    \n",
    "list_mes_counter = sorted(leto_counter.items())\n",
    "mesec, counter = zip(*list_mes_counter)\n",
    "plt.figure(figsize=(15,10))\n",
    "plt.plot(mesec,counter)\n",
    "plt.show()"
   ]
  },
  {
   "cell_type": "markdown",
   "metadata": {},
   "source": [
    "Porazdelitev kaznivih dejanj po mesecih:"
   ]
  },
  {
   "cell_type": "code",
   "execution_count": null,
   "metadata": {},
   "outputs": [],
   "source": [
    "kd_mes = df.groupby(['MesecStoritve', 'UraStoritve','ZaporednaStevilkaKD'])\n",
    "mes_counter = defaultdict(int)\n",
    "\n",
    "for name,v in kd_mes:\n",
    "    index = int((name[0].split(\".\")[0]))\n",
    "    mes_counter[index] +=1\n",
    "\n",
    "\n",
    "list_mes_counter = sorted(mes_counter.items())\n",
    "mesec, counter = zip(*list_mes_counter)\n",
    "plt.figure(figsize=(15,10))\n",
    "plt.bar(mesec,counter)\n",
    "plt.show()"
   ]
  },
  {
   "cell_type": "markdown",
   "metadata": {},
   "source": [
    "Udeleženci v kaznivih dejanjih porazdeljeni po starostnih razredih:"
   ]
  },
  {
   "cell_type": "code",
   "execution_count": null,
   "metadata": {},
   "outputs": [],
   "source": [
    "star_razredi = df.groupby(['StarostniRazred'])\n",
    "star_razred, star_stevilo = zip(*[(name,razred.size) for name, razred in star_razredi])\n",
    "\n",
    "star_stevilo = list(star_stevilo)\n",
    "star_stevilo[-3] += star_stevilo[-2]\n",
    "\n",
    "plt.figure(figsize=(15,10))\n",
    "plt.bar(star_razred[:-2],star_stevilo[:-2])\n",
    "plt.show()\n",
    "#plt.pie(star_stevilo[:-3], labels=star_razred[:-3])"
   ]
  }
 ],
 "metadata": {
  "interpreter": {
   "hash": "f7b61ccd47a9e364be386714f999f9d62e0ad02ce9d4a287ede88a2de543110b"
  },
  "kernelspec": {
   "display_name": "Python 3 (ipykernel)",
   "language": "python",
   "name": "python3"
  },
  "language_info": {
   "codemirror_mode": {
    "name": "ipython",
    "version": 3
   },
   "file_extension": ".py",
   "mimetype": "text/x-python",
   "name": "python",
   "nbconvert_exporter": "python",
   "pygments_lexer": "ipython3",
   "version": "3.8.10"
  }
 },
 "nbformat": 4,
 "nbformat_minor": 2
}
