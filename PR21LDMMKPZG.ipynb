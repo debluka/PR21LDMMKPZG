{
 "cells": [
  {
   "cell_type": "markdown",
   "metadata": {},
   "source": [
    "Uvoz knjižnic in branje podatkov iz datotek:"
   ]
  },
  {
   "cell_type": "code",
   "execution_count": null,
   "metadata": {},
   "outputs": [],
   "source": [
    "import matplotlib.pyplot as plt\n",
    "from collections import defaultdict\n",
    "import pandas as pd\n",
    "import numpy as np\n",
    "import operator"
   ]
  },
  {
   "cell_type": "code",
   "execution_count": null,
   "metadata": {},
   "outputs": [],
   "source": [
    "list_of_cvs = [\"./podatki/kd{}.csv\".format(i) for i in range(2010,2020)]\n",
    "frames = [pd.read_csv(csv,sep=';', encoding=\"UTF-8\", dtype={'MesecStoritve': str}) for csv in list_of_cvs]\n",
    "df = pd.concat(frames)"
   ]
  },
  {
   "cell_type": "code",
   "execution_count": null,
   "metadata": {},
   "outputs": [],
   "source": [
    "dfGroupedBySex = df.groupby([\"Spol\"]);"
   ]
  },
  {
   "cell_type": "code",
   "execution_count": null,
   "metadata": {},
   "outputs": [],
   "source": [
    "# { sex: {year: count} }\n",
    "crimesBySex = {};\n",
    "for sex, bySexData in dfGroupedBySex:\n",
    "    if(sex not in crimesBySex):\n",
    "        crimesBySex[sex] = defaultdict(int);\n",
    "    for yearStr in bySexData[\"MesecStoritve\"].values:\n",
    "        year = int(yearStr.split(\".\")[1]);\n",
    "        crimesBySex[sex][year] += 1;\n",
    "#print(crimesBySex);"
   ]
  },
  {
   "cell_type": "code",
   "execution_count": null,
   "metadata": {},
   "outputs": [],
   "source": [
    "plt.figure(figsize=(15,10));\n",
    "for sex, crimesPerYear in crimesBySex.items():\n",
    "    if(sex != \"MOŠKI\" and sex != \"ŽENSKI\"):\n",
    "        continue;\n",
    "    sortedYears = [ year for year in sorted(crimesPerYear.keys()) if(2010 <= year < 2020) ];\n",
    "    crimesPerSortedYear = [ crimesPerYear[year] for year in sortedYears ];\n",
    "    plt.plot(sortedYears, crimesPerSortedYear, label=sex, linewidth=2.0);\n",
    "plt.legend();"
   ]
  },
  {
   "cell_type": "markdown",
   "metadata": {},
   "source": [
    "Kazniva dejanja po letih:"
   ]
  },
  {
   "cell_type": "code",
   "execution_count": null,
   "metadata": {},
   "outputs": [],
   "source": [
    "#group by mesec, count unique id\n",
    "kd_leto = df.groupby(['MesecStoritve', 'UraStoritve','ZaporednaStevilkaKD'])\n",
    "leto_counter = defaultdict(int)\n",
    "\n",
    "for name,v in kd_leto:\n",
    "    index = int((name[0].split(\".\")[1]))\n",
    "    if index >= 2010 and index < 2020:\n",
    "        leto_counter[index] +=1\n",
    "    \n",
    "    \n",
    "list_mes_counter = sorted(leto_counter.items())\n",
    "mesec, counter = zip(*list_mes_counter)\n",
    "plt.figure(figsize=(15,10))\n",
    "plt.plot(mesec,counter)\n",
    "plt.show()"
   ]
  },
  {
   "cell_type": "markdown",
   "metadata": {},
   "source": [
    "Porazdelitev kaznivih dejanj po mesecih:"
   ]
  },
  {
   "cell_type": "code",
   "execution_count": null,
   "metadata": {},
   "outputs": [],
   "source": [
    "kd_mes = df.groupby(['MesecStoritve', 'UraStoritve','ZaporednaStevilkaKD'])\n",
    "mes_counter = defaultdict(int)\n",
    "\n",
    "for name,v in kd_mes:\n",
    "    index = int((name[0].split(\".\")[0]))\n",
    "    mes_counter[index] +=1\n",
    "\n",
    "\n",
    "list_mes_counter = sorted(mes_counter.items())\n",
    "mesec, counter = zip(*list_mes_counter)\n",
    "plt.figure(figsize=(15,10))\n",
    "plt.bar(mesec,counter)\n",
    "plt.show()"
   ]
  },
  {
   "cell_type": "markdown",
   "metadata": {},
   "source": [
    "Udeleženci v kaznivih dejanjih porazdeljeni po starostnih razredih:"
   ]
  },
  {
   "cell_type": "code",
   "execution_count": null,
   "metadata": {},
   "outputs": [],
   "source": [
    "star_razredi = df.groupby(['StarostniRazred'])\n",
    "star_razred, star_stevilo = zip(*[(name,razred.size) for name, razred in star_razredi])\n",
    "\n",
    "star_stevilo = list(star_stevilo)\n",
    "star_stevilo[-3] += star_stevilo[-2]\n",
    "\n",
    "plt.figure(figsize=(15,10))\n",
    "plt.bar(star_razred[:-2],star_stevilo[:-2])\n",
    "plt.show()\n",
    "#plt.pie(star_stevilo[:-3], labels=star_razred[:-3])"
   ]
  },
  {
   "cell_type": "code",
   "execution_count": null,
   "metadata": {
    "scrolled": true
   },
   "outputs": [],
   "source": [
    "#group by mesec, count unique id\n",
    "kd_ura = df.groupby(['UraStoritve', 'ZaporednaStevilkaKD'])\n",
    "ura_counter = defaultdict(int)\n",
    "\n",
    "for name,v in kd_ura:\n",
    "    ura_counter[name[0]] += 1\n",
    "\n",
    "\n",
    "list_ura_counter = sorted(ura_counter.items())\n",
    "ura, counter = zip(*list_ura_counter)\n",
    "plt.figure(figsize=(40,10))\n",
    "plt.bar(ura,counter, color=\"black\")\n",
    "plt.show()"
   ]
  },
  {
   "cell_type": "code",
   "execution_count": null,
   "metadata": {},
   "outputs": [],
   "source": []
  },
  {
   "cell_type": "code",
   "execution_count": null,
   "metadata": {},
   "outputs": [],
   "source": [
    "from PIL import Image\n",
    "#pip install reportlab\n",
    "from reportlab.graphics import renderPM\n",
    "#pip install svglib\n",
    "from svglib.svglib import svg2rlg\n",
    "\n",
    "def getPILImage( pathToSVG ):\n",
    "    drawing = svg2rlg( pathToSVG );\n",
    "    return renderPM.drawToPILP( drawing );\n",
    "\n",
    "\n",
    "import re\n",
    "\n",
    "def getColorFronNormVal( normVal ):\n",
    "    return \"#00FFFF\";\n",
    "\n",
    "def puMapingService( puName ):\n",
    "    if ( puName == \"PU LJUBLJANA\" ):\n",
    "        return \"PU-LJ\";\n",
    "    elif  ( puName == \"PU CELJE\" ):\n",
    "        return \"PU-CE\";\n",
    "    elif  ( puName == \"PU KRANJ\" ):\n",
    "        return \"PU-KR\";\n",
    "    elif  ( puName == \"PU KOPER\" ):\n",
    "        return \"PU-KP\";\n",
    "    elif  ( puName == \"PU KRANJ\" ):\n",
    "        return \"PU-KR\";\n",
    "    elif  ( puName == \"PU MARIBOR\" ):\n",
    "        return \"PU-MB\";\n",
    "    elif  ( puName == \"PU MURSKA SOBOTA\" ):\n",
    "        return \"PU-MS\";\n",
    "    elif  ( puName == \"PU NOVA GORICA\" ):\n",
    "        return \"PU-NG\";\n",
    "    elif  ( puName == \"PU NOVO MESTO\" ):\n",
    "        return \"PU-NM\";\n",
    "    else:\n",
    "        return puName;\n",
    "\n",
    "def getModifiedPUStats( stats ):\n",
    "    return { puMapingService(pu): getColorFronNormVal(normVal) for pu,normVal in stats.items() }\n",
    "    \n",
    "def transformSvgPathLine( line, fillColor ):\n",
    "    return line.rstrip()[:-1] + \" fill=\\\"%s\\\">\\n\" % fillColor;\n",
    "    \n",
    "# stats = { \"PU_X\": normVal, ...  }\n",
    "def getModifiedSVG( pathToSvg, stats ):\n",
    "    colorPerPU = getModifiedPUStats( stats );\n",
    "    svg = \"\";\n",
    "    with open(pathToSvg) as file:\n",
    "        for line in file:\n",
    "            if ( line.lstrip().startswith( \"<path d=\" ) ):\n",
    "                matchedID = re.findall( 'id=\"PU-..', line );\n",
    "                if ( len( matchedID ) != 1 ):\n",
    "                    print( \"ERROR in \", line, matchedID );\n",
    "                    svg += line;\n",
    "                    continue;\n",
    "                pu = re.findall( \"PU-..\", matchedID[0] )[0];\n",
    "                if ( pu not in colorPerPU ):\n",
    "                    #print(\"Unknown PU:\", pu, \"- will have default color fill\");\n",
    "                    svg += line;\n",
    "                    continue;\n",
    "                svg += transformSvgPathLine( line, colorPerPU[pu] );\n",
    "            else:\n",
    "                svg += line;\n",
    "    return svg;\n",
    "\n",
    "def getFrame( stats ):\n",
    "    pathToSIPUFile = \"./misc/si_pu.svg\";\n",
    "    pathToTempSvg = \"./misc/temp.svg\";\n",
    "    svg = getModifiedSVG( pathToSIPUFile, temp );\n",
    "    with open( pathToTempSvg, \"w\" ) as svgFile:\n",
    "        svgFile.write( svg );\n",
    "    return getPILImage( pathToTempSvg );\n",
    "\n",
    "# allStats = [ (datum, {'PU': normVal, ...}), ... ]\n",
    "def getGif( allStats ):\n",
    "    frames = [];\n",
    "    for datum, stats in allStats:\n",
    "        frames.append( getFrame( stats ) );\n",
    "    return frames;\n",
    "    \n",
    "def saveGif( frames, path ):\n",
    "    frames[0].save(path, save_all=True, append_images=frames[1:], optimize=False, duration=150, loop=1)\n",
    "\n",
    "def generateGif( allStats, gifPath ):\n",
    "    saveGif( getGif( allStats ), gifPath );\n",
    "\n",
    "    \n",
    "    \n",
    "    \n",
    "    \n",
    "tempAllStats =  [ ('0.0', { \"PU LJUBLJANA\": 0.2 }) ];\n",
    "generateGif( tempAllStats, \"./misc/temp.gif\" );\n"
   ]
  },
  {
   "cell_type": "code",
   "execution_count": null,
   "metadata": {},
   "outputs": [],
   "source": []
  },
  {
   "cell_type": "code",
   "execution_count": null,
   "metadata": {},
   "outputs": [],
   "source": []
  }
 ],
 "metadata": {
  "interpreter": {
   "hash": "f7b61ccd47a9e364be386714f999f9d62e0ad02ce9d4a287ede88a2de543110b"
  },
  "kernelspec": {
   "display_name": "Python 3 (ipykernel)",
   "language": "python",
   "name": "python3"
  },
  "language_info": {
   "codemirror_mode": {
    "name": "ipython",
    "version": 3
   },
   "file_extension": ".py",
   "mimetype": "text/x-python",
   "name": "python",
   "nbconvert_exporter": "python",
   "pygments_lexer": "ipython3",
   "version": "3.8.10"
  }
 },
 "nbformat": 4,
 "nbformat_minor": 2
}
