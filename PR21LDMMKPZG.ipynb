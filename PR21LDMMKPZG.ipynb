{
 "cells": [
  {
   "cell_type": "markdown",
   "metadata": {},
   "source": [
    "Uvoz knjižnic in branje podatkov iz datotek:"
   ]
  },
  {
   "cell_type": "code",
   "execution_count": null,
   "metadata": {},
   "outputs": [],
   "source": [
    "import matplotlib.pyplot as plt\n",
    "from collections import defaultdict\n",
    "import pandas as pd\n",
    "import numpy as np\n",
    "import operator"
   ]
  },
  {
   "cell_type": "code",
   "execution_count": null,
   "metadata": {},
   "outputs": [],
   "source": [
    "list_of_cvs = [\"./podatki/kd{}.csv\".format(i) for i in range(2010,2020)]\n",
    "frames = [pd.read_csv(csv,sep=';', encoding=\"UTF-8\", dtype={'MesecStoritve': str}) for csv in list_of_cvs]\n",
    "df = pd.concat(frames)"
   ]
  },
  {
   "cell_type": "code",
   "execution_count": null,
   "metadata": {},
   "outputs": [],
   "source": [
    "dfGroupedBySex = df.groupby([\"Spol\"]);"
   ]
  },
  {
   "cell_type": "code",
   "execution_count": null,
   "metadata": {},
   "outputs": [],
   "source": [
    "# { sex: {year: count} }\n",
    "crimesBySex = {};\n",
    "for sex, bySexData in dfGroupedBySex:\n",
    "    if(sex not in crimesBySex):\n",
    "        crimesBySex[sex] = defaultdict(int);\n",
    "    for yearStr in bySexData[\"MesecStoritve\"].values:\n",
    "        year = int(yearStr.split(\".\")[1]);\n",
    "        crimesBySex[sex][year] += 1;\n",
    "#print(crimesBySex);"
   ]
  },
  {
   "cell_type": "code",
   "execution_count": null,
   "metadata": {},
   "outputs": [],
   "source": [
    "plt.figure(figsize=(15,10));\n",
    "for sex, crimesPerYear in crimesBySex.items():\n",
    "    if(sex != \"MOŠKI\" and sex != \"ŽENSKI\"):\n",
    "        continue;\n",
    "    sortedYears = [ year for year in sorted(crimesPerYear.keys()) if(2010 <= year < 2020) ];\n",
    "    crimesPerSortedYear = [ crimesPerYear[year] for year in sortedYears ];\n",
    "    plt.plot(sortedYears, crimesPerSortedYear, label=sex, linewidth=2.0);\n",
    "plt.legend();"
   ]
  },
  {
   "cell_type": "markdown",
   "metadata": {},
   "source": [
    "Kazniva dejanja po letih:"
   ]
  },
  {
   "cell_type": "code",
   "execution_count": null,
   "metadata": {},
   "outputs": [],
   "source": [
    "#group by mesec, count unique id\n",
    "kd_leto = df.groupby(['MesecStoritve', 'UraStoritve','ZaporednaStevilkaKD'])\n",
    "leto_counter = defaultdict(int)\n",
    "\n",
    "for name,v in kd_leto:\n",
    "    index = int((name[0].split(\".\")[1]))\n",
    "    if index >= 2010 and index < 2020:\n",
    "        leto_counter[index] +=1\n",
    "    \n",
    "    \n",
    "list_mes_counter = sorted(leto_counter.items())\n",
    "mesec, counter = zip(*list_mes_counter)\n",
    "plt.figure(figsize=(15,10))\n",
    "plt.plot(mesec,counter)\n",
    "plt.show()"
   ]
  },
  {
   "cell_type": "markdown",
   "metadata": {},
   "source": [
    "Porazdelitev kaznivih dejanj po mesecih:"
   ]
  },
  {
   "cell_type": "code",
   "execution_count": null,
   "metadata": {},
   "outputs": [],
   "source": [
    "kd_mes = df.groupby(['MesecStoritve', 'UraStoritve','ZaporednaStevilkaKD'])\n",
    "mes_counter = defaultdict(int)\n",
    "\n",
    "for name,v in kd_mes:\n",
    "    index = int((name[0].split(\".\")[0]))\n",
    "    mes_counter[index] +=1\n",
    "\n",
    "\n",
    "list_mes_counter = sorted(mes_counter.items())\n",
    "mesec, counter = zip(*list_mes_counter)\n",
    "plt.figure(figsize=(15,10))\n",
    "plt.bar(mesec,counter)\n",
    "plt.show()"
   ]
  },
  {
   "cell_type": "markdown",
   "metadata": {},
   "source": [
    "Udeleženci v kaznivih dejanjih porazdeljeni po starostnih razredih:"
   ]
  },
  {
   "cell_type": "code",
   "execution_count": null,
   "metadata": {},
   "outputs": [],
   "source": [
    "star_razredi = df.groupby(['StarostniRazred'])\n",
    "star_razred, star_stevilo = zip(*[(name,razred.size) for name, razred in star_razredi])\n",
    "\n",
    "star_stevilo = list(star_stevilo)\n",
    "star_stevilo[-3] += star_stevilo[-2]\n",
    "\n",
    "plt.figure(figsize=(15,10))\n",
    "plt.bar(star_razred[:-2],star_stevilo[:-2])\n",
    "plt.show()\n",
    "#plt.pie(star_stevilo[:-3], labels=star_razred[:-3])"
   ]
  },
  {
   "cell_type": "code",
   "execution_count": null,
   "metadata": {},
   "outputs": [],
   "source": [
    "#group by mesec, count unique id\n",
    "kd_ura = df.groupby(['UraStoritve', 'ZaporednaStevilkaKD'])\n",
    "ura_counter = defaultdict(int)\n",
    "\n",
    "for name,v in kd_ura:\n",
    "    ura_counter[name[0]] += 1\n",
    "\n",
    "\n",
    "list_ura_counter = sorted(ura_counter.items())\n",
    "ura, counter = zip(*list_ura_counter)\n",
    "plt.figure(figsize=(40,10))\n",
    "plt.bar(ura,counter, color=\"black\")\n",
    "plt.show()"
   ]
  },
  {
   "cell_type": "code",
   "execution_count": null,
   "metadata": {},
   "outputs": [],
   "source": [
    "from PIL import Image\n",
    "#pip install reportlab\n",
    "from reportlab.graphics import renderPM\n",
    "#pip install svglib\n",
    "from svglib.svglib import svg2rlg\n",
    "\n",
    "def getPILImage( pathToSVG ):\n",
    "    drawing = svg2rlg( pathToSVG );\n",
    "    return renderPM.drawToPILP( drawing );\n",
    "\n",
    "\n",
    "import re\n",
    "from pathlib import Path\n",
    "\n",
    "def puMapingService( puName ):\n",
    "    if ( puName == \"PU LJUBLJANA\" ):\n",
    "        return \"PU-LJ\";\n",
    "    elif  ( puName == \"PU CELJE\" ):\n",
    "        return \"PU-CE\";\n",
    "    elif  ( puName == \"PU KRANJ\" ):\n",
    "        return \"PU-KR\";\n",
    "    elif  ( puName == \"PU KOPER\" ):\n",
    "        return \"PU-KP\";\n",
    "    elif  ( puName == \"PU KRANJ\" ):\n",
    "        return \"PU-KR\";\n",
    "    elif  ( puName == \"PU MARIBOR\" ):\n",
    "        return \"PU-MB\";\n",
    "    elif  ( puName == \"PU MURSKA SOBOTA\" ):\n",
    "        return \"PU-MS\";\n",
    "    elif  ( puName == \"PU NOVA GORICA\" ):\n",
    "        return \"PU-NG\";\n",
    "    elif  ( puName == \"PU NOVO MESTO\" ):\n",
    "        return \"PU-NM\";\n",
    "    else:\n",
    "        return puName;\n",
    "\n",
    "def getModifiedPUStats( stats ):\n",
    "    return { puMapingService(pu): max( 0.17, normVal ) for pu, normVal in stats.items() }\n",
    "    \n",
    "def getTextAndLegendForSvg( name, date ):\n",
    "    return \"\"\"    <text x=\"20\" y=\"35\" style=\"fill: black; font: bold 27.5px sans-serif;\">\n",
    "        %s\n",
    "        <tspan x=\"20\" y=\"65\" style=\"font: bold 24px sans-serif;\">%s</tspan>\n",
    "        <tspan x=\"13\" y=\"100\" style=\"font: bold 22px arial;\">Legenda:</tspan>\n",
    "        <tspan x=\"10\" y=\"140\" style=\"font: bold 20px arial;\">0</tspan>\n",
    "        <tspan x=\"230\" y=\"140\" style=\"font: bold 20px arial;\">100</tspan>\n",
    "    </text>\n",
    "    <rect x=\"15\" y=\"107\" width=\"30\" height=\"15\" style=\"fill: #000000; fill-opacity: 0.17;\" />\n",
    "    <rect x=\"45\" y=\"107\" width=\"30\" height=\"15\" style=\"fill: #000000; fill-opacity: 0.27;\" />\n",
    "    <rect x=\"75\" y=\"107\" width=\"30\" height=\"15\" style=\"fill: #000000; fill-opacity: 0.37;\" />\n",
    "    <rect x=\"105\" y=\"107\" width=\"30\" height=\"15\" style=\"fill: #000000; fill-opacity: 0.47;\" />\n",
    "    <rect x=\"135\" y=\"107\" width=\"30\" height=\"15\" style=\"fill: #000000; fill-opacity: 0.57;\" />\n",
    "    <rect x=\"165\" y=\"107\" width=\"30\" height=\"15\" style=\"fill: #000000; fill-opacity: 0.75;\" />\n",
    "    <rect x=\"195\" y=\"107\" width=\"30\" height=\"15\" style=\"fill: #000000; fill-opacity: 0.87;\" />\n",
    "    <rect x=\"225\" y=\"107\" width=\"30\" height=\"15\" style=\"fill: #000000; fill-opacity: 1;\" />\\n\"\"\" % ( name, date );\n",
    "\n",
    "def transformSvgPathLine( line, fillColor ):\n",
    "    return line.rstrip()[:-1] + \" fill-opacity=\\\"%s\\\">\\n\" % fillColor;\n",
    "    \n",
    "# stats = { \"PU_X\": normVal, ...  }\n",
    "def getModifiedSVG( pathToSvg, stats, frameName, month ):\n",
    "    colorPerPU = getModifiedPUStats( stats );\n",
    "    svg = \"\";\n",
    "    with open(pathToSvg) as file:\n",
    "        for line in file:\n",
    "            if ( line.lstrip().startswith( \"<path d=\" ) ):\n",
    "                matchedID = re.findall( 'id=\"PU-..', line );\n",
    "                if ( len( matchedID ) != 1 ):\n",
    "                    print( \"ERROR in \", line, matchedID );\n",
    "                    svg += line;\n",
    "                    continue;\n",
    "                pu = re.findall( \"PU-..\", matchedID[0] )[0];\n",
    "                if ( pu not in colorPerPU ):\n",
    "                    #print(\"Unknown PU:\", pu, \"- will have default color fill\");\n",
    "                    svg += line;\n",
    "                    continue;\n",
    "                svg += transformSvgPathLine( line, colorPerPU[pu] );\n",
    "            elif ( line.lstrip().startswith( \"</svg>\" ) ):\n",
    "                svg += getTextAndLegendForSvg( frameName, month ) + line;\n",
    "            else:\n",
    "                svg += line;\n",
    "    return svg;\n",
    "\n",
    "def getFrame( stats, frameName, month ):\n",
    "    pathToSIPUFile = \"./misc/si_pu.svg\";\n",
    "    pathToTempSvg = Path('./temp/temp.svg');\n",
    "    pathToTempSvg.parent.mkdir(parents=True, exist_ok=True);\n",
    "    svg = getModifiedSVG( pathToSIPUFile, stats, frameName, month );\n",
    "    with open( pathToTempSvg, \"w\" ) as svgFile:\n",
    "        svgFile.write( svg );\n",
    "    return getPILImage( pathToTempSvg );\n",
    "\n",
    "# allStats = [ (datum, {'PU': normVal, ...}), ... ]\n",
    "def getGif( allStats, gifName ):\n",
    "    frames = [];\n",
    "    for date, stats in allStats:\n",
    "        frames.append( getFrame( stats, gifName, date ) );\n",
    "    return frames;\n",
    "    \n",
    "def saveGif( frames, path ):\n",
    "    frames[0].save(path, save_all=True, append_images=frames[1:], optimize=False, duration=150, loop=1)\n",
    "\n",
    "def generateGif( allStats, gifName, gifPath ):\n",
    "    saveGif( getGif( allStats, gifName ), gifPath );\n",
    "\n",
    "    \n",
    "    \n",
    "\n",
    "tempAllStats =  [ ('0.0', { \"PU LJUBLJANA\": 0.2 }), ('0.1', { \"PU CELJE\": 0.0 }) ];\n",
    "generateGif( tempAllStats, \"Test\", \"./misc/temp.gif\" );\n"
   ]
  },
  {
   "cell_type": "code",
   "execution_count": null,
   "metadata": {},
   "outputs": [],
   "source": [
    "pu = df.groupby(['TIP-DEJANJA'])\n",
    "\n",
    "print(\"[\")\n",
    "for name, v in pu:\n",
    "    print(name,\",\")\n",
    "print(\"]\")\n",
    "#print(pu.ngroups)\n"
   ]
  },
  {
   "cell_type": "code",
   "execution_count": null,
   "metadata": {},
   "outputs": [],
   "source": [
    "df[\"TIP-DEJANJA\"] = df.apply(lambda row: row[\"OpisKD\"].split(\" - \")[1], axis=1)"
   ]
  },
  {
   "cell_type": "code",
   "execution_count": null,
   "metadata": {},
   "outputs": [],
   "source": [
    "kd = df.groupby([\"TIP-DEJANJA\"])\n",
    "kd.ngroups\n",
    "\n",
    "tip_dogodki = defaultdict(set)\n",
    "\n",
    "for k, v in kd:\n",
    "    if k== \"\": continue\n",
    "    for val in v.values:\n",
    "        if val[4] in [\"GPU\", \"DIREKTORAT ZA UPRAVNE NOTRANJE ZADEVE\", \"NI PODATKA\"]: continue\n",
    "        tip_dogodki[k].add((val[4],val[1] ,val[0], val[2], int(val[1].split(\".\")[1]), int(val[1].split(\".\")[0])))\n",
    "\n",
    "\n",
    "\n",
    "tip_urejeni_dogodki = {k:(sorted([zapis for zapis in v], key=lambda x: (x[4],x[5]))) for k,v in tip_dogodki.items()}\n"
   ]
  },
  {
   "cell_type": "code",
   "execution_count": null,
   "metadata": {},
   "outputs": [],
   "source": [
    "for tema,v in tip_urejeni_dogodki.items():\n",
    "    if len(v) <5:\n",
    "        print(tema)\n",
    "        for v1 in v:\n",
    "            print(\"     \"+ str(v1))\n",
    "        break"
   ]
  },
  {
   "cell_type": "code",
   "execution_count": null,
   "metadata": {},
   "outputs": [],
   "source": [
    "#[(datum,{PU:vrednost,...})]\n",
    "enote = [\"PU CELJE\",\"PU KOPER\",\"PU KRANJ\",\"PU LJUBLJANA\",\"PU MARIBOR\",\"PU MURSKA SOBOTA\",\"PU NOVA GORICA\",\"PU NOVO MESTO\"]\n",
    "multiplier = {\"PU CELJE\":340000,\"PU KOPER\":150000,\"PU KRANJ\":200000,\"PU LJUBLJANA\":630000,\"PU MARIBOR\":330000,\"PU MURSKA SOBOTA\":120000,\"PU NOVA GORICA\":120000,\"PU NOVO MESTO\":165000}\n",
    "\n",
    "vse = []\n",
    "for dejanje, vrednosti in tip_urejeni_dogodki.items():\n",
    "\n",
    "    meseci = []\n",
    "    sdatum = None\n",
    "    smesec = None\n",
    "    sleto = None\n",
    "    enote_norm = {enota:0 for enota in enote}\n",
    "\n",
    "    #if len(vrednosti) > 1000 or len(vrednosti) < 100: continue\n",
    "\n",
    "    for vrednost in vrednosti:\n",
    "        if vrednost[4] < 2010:\n",
    "            continue\n",
    "        if sdatum == None:\n",
    "            sdatum=vrednost[1]\n",
    "            sleto = vrednost[4]\n",
    "            smesec = vrednost[5]\n",
    "        if vrednost[1] != sdatum:\n",
    "            while ((vrednost[4]*12 + vrednost[5]) - (sleto*12 + smesec)) > 1:\n",
    "                smesec +=1\n",
    "                if smesec > 12:\n",
    "                    smesec = 1\n",
    "                    sleto +=1\n",
    "                if smesec < 10:\n",
    "                    meseci.append((\"0{}.{}\".format(smesec,sleto), {enota:0 for enota in enote}))\n",
    "                else:\n",
    "                    meseci.append((\"{}.{}\".format(smesec,sleto), {enota:0 for enota in enote}))\n",
    "\n",
    "            maxi = np.max(np.array([_v for _k,_v in enote_norm.items()]))\n",
    "            enote_norm_tmp = {e:round(v/maxi,4) for e,v in enote_norm.items()}\n",
    "            meseci.append((vrednost[1], enote_norm_tmp))\n",
    "            #enote_norm = {enota:0 for enota in enote}\n",
    "            sdatum=vrednost[1]\n",
    "            sleto = vrednost[4]\n",
    "            smesec = vrednost[5]\n",
    "\n",
    "        enote_norm[vrednost[0]] +=1 / multiplier[vrednost[0]]\n",
    "    #print(meseci)\n",
    "    vse.append((dejanje,meseci))\n",
    "\n",
    "from unidecode import unidecode\n",
    "for dejanje,meseci in vse:\n",
    "    if dejanje in ['TATVINA','VELIKA TATVINA','GOLJUFIJA','KRŠITEV TEMELJNIH PRAVIC DELAVCEV','POSLOVNA GOLJUFIJA','POŠKODOVANJE TUJE STVARI','NEPLAÈEVANJE PREŽIVNINE','NASILJE V DRUŽINI','GROŽNJA','LAHKA TELESNA POŠKODBA']:\n",
    "        try:\n",
    "            generateGif( meseci, unidecode(dejanje), \"./temp/{}.gif\".format(dejanje) );\n",
    "        except:\n",
    "            continue"
   ]
  },
  {
   "cell_type": "code",
   "execution_count": null,
   "metadata": {},
   "outputs": [],
   "source": [
    "preckanje_meje = df.loc[df[\"TIP-DEJANJA\"] == \"PREPOVEDANO PREHAJANJE MEJE ALI OZEMLJA DRŽAVE\"]\n",
    "datum_preckanja = preckanje_meje.groupby([\"MesecStoritve\"])\n",
    "\n",
    "mesec_stevilo = defaultdict(int)\n",
    "for k,v in datum_preckanja:\n",
    "    mesec_stevilo[k] = len(v)\n",
    "\n",
    "mesec_stevilo = (list(mesec_stevilo.items()))\n",
    "mesec_stevilo = [(float(int(k.split(\".\")[1]) + (int(k.split(\".\")[0])/12)),v) for k, v in mesec_stevilo if int(k.split(\".\")[1])>2007]\n",
    "mesec_stevilo = sorted(mesec_stevilo, key=lambda x:x[0])\n",
    "#print(mesec_stevilo)\n",
    "\n",
    "datumi, vrednosti = zip(*mesec_stevilo)\n",
    "plt.figure(figsize=(40,10))\n",
    "plt.plot(datumi,vrednosti, color=\"black\")\n",
    "plt.xticks(rotation=90)\n",
    "plt.show()"
   ]
  }
 ],
 "metadata": {
  "interpreter": {
   "hash": "d8d759ef7c60fc3d8af4605260651e2f4db54d60cf9b02fad04f6d144c06c749"
  },
  "kernelspec": {
   "display_name": "Python 3 (ipykernel)",
   "language": "python",
   "name": "python3"
  },
  "language_info": {
   "codemirror_mode": {
    "name": "ipython",
    "version": 3
   },
   "file_extension": ".py",
   "mimetype": "text/x-python",
   "name": "python",
   "nbconvert_exporter": "python",
   "pygments_lexer": "ipython3",
   "version": "3.8.10"
  }
 },
 "nbformat": 4,
 "nbformat_minor": 2
}
