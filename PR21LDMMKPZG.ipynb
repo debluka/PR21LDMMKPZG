{
 "cells": [
  {
   "cell_type": "markdown",
   "metadata": {},
   "source": [
    "Uvoz knjižnic in branje podatkov iz datotek:"
   ]
  },
  {
   "cell_type": "code",
   "execution_count": 1,
   "metadata": {},
   "outputs": [],
   "source": [
    "import matplotlib.pyplot as plt\n",
    "from collections import defaultdict\n",
    "import pandas as pd\n",
    "import numpy as np"
   ]
  },
  {
   "cell_type": "code",
   "execution_count": 2,
   "metadata": {},
   "outputs": [
    {
     "name": "stderr",
     "output_type": "stream",
     "text": [
      "C:\\Users\\Uporabnik\\AppData\\Local\\Temp\\ipykernel_13096\\1644075804.py:2: DtypeWarning: Columns (14) have mixed types. Specify dtype option on import or set low_memory=False.\n",
      "  frames = [pd.read_csv(csv,sep=';', encoding=\"UTF-8\", dtype={'MesecStoritve': str}) for csv in list_of_cvs]\n",
      "C:\\Users\\Uporabnik\\AppData\\Local\\Temp\\ipykernel_13096\\1644075804.py:2: DtypeWarning: Columns (14,17,18) have mixed types. Specify dtype option on import or set low_memory=False.\n",
      "  frames = [pd.read_csv(csv,sep=';', encoding=\"UTF-8\", dtype={'MesecStoritve': str}) for csv in list_of_cvs]\n"
     ]
    }
   ],
   "source": [
    "list_of_cvs = [\"./podatki/kd{}.csv\".format(i) for i in range(2010,2020)]\n",
    "frames = [pd.read_csv(csv,sep=';', encoding=\"UTF-8\", dtype={'MesecStoritve': str}) for csv in list_of_cvs]\n",
    "df = pd.concat(frames)"
   ]
  },
  {
   "cell_type": "code",
   "execution_count": 5,
   "metadata": {},
   "outputs": [
    {
     "data": {
      "text/plain": [
       "' plt.figure(figsize=(15,10))\\nplt.plot(mesec,counter)\\nplt.show() '"
      ]
     },
     "execution_count": 5,
     "metadata": {},
     "output_type": "execute_result"
    }
   ],
   "source": [
    "#group by mesec, count unique id\n",
    "kd_leto = df.groupby(['MesecStoritve', 'UraStoritve','ZaporednaStevilkaKD'])\n",
    "leto_counter = defaultdict(int)\n",
    "\n",
    "for name,v in kd_leto:\n",
    "    index = int((name[0].split(\".\")[1]))\n",
    "    if index >= 2010 and index < 2020:\n",
    "        leto_counter[index] +=1\n",
    "    \n",
    "\n",
    "\n",
    "list_mes_counter = sorted(leto_counter.items())\n",
    "mesec, counter = zip(*list_mes_counter)\n",
    "\"\"\" plt.figure(figsize=(15,10))\n",
    "plt.plot(mesec,counter)\n",
    "plt.show() \"\"\""
   ]
  },
  {
   "cell_type": "code",
   "execution_count": 37,
   "metadata": {},
   "outputs": [
    {
     "data": {
      "text/plain": [
       "defaultdict(<function __main__.<lambda>()>,\n",
       "            {'1.000 - 10.000 EUR': defaultdict(int,\n",
       "                         {'00-07': 130,\n",
       "                          '07-14': 245,\n",
       "                          '14-16': 172,\n",
       "                          '16-18': 327,\n",
       "                          '18-24': 2718,\n",
       "                          '24-34': 11476,\n",
       "                          '34-44': 15831,\n",
       "                          '44-54': 15437,\n",
       "                          '54-64': 11420,\n",
       "                          'NAD 64': 8733,\n",
       "                          'NI PODATKA': 45,\n",
       "                          'NI POJAVA': 7,\n",
       "                          'PRAVNA OSEBA': 34901}),\n",
       "             '10.000 - 100.000 EUR': defaultdict(int,\n",
       "                         {'00-07': 4,\n",
       "                          '07-14': 26,\n",
       "                          '14-16': 17,\n",
       "                          '16-18': 18,\n",
       "                          '18-24': 247,\n",
       "                          '24-34': 1688,\n",
       "                          '34-44': 2729,\n",
       "                          '44-54': 2756,\n",
       "                          '54-64': 2117,\n",
       "                          'NAD 64': 1508,\n",
       "                          'NI PODATKA': 16,\n",
       "                          'PRAVNA OSEBA': 11604}),\n",
       "             '100 - 1.000 EUR': defaultdict(int,\n",
       "                         {'00-07': 2030,\n",
       "                          '07-14': 3584,\n",
       "                          '14-16': 2275,\n",
       "                          '16-18': 4063,\n",
       "                          '18-24': 18431,\n",
       "                          '24-34': 33183,\n",
       "                          '34-44': 37573,\n",
       "                          '44-54': 34631,\n",
       "                          '54-64': 27339,\n",
       "                          'NAD 64': 26222,\n",
       "                          'NI PODATKA': 78,\n",
       "                          'NI POJAVA': 13,\n",
       "                          'PRAVNA OSEBA': 61653}),\n",
       "             '100.000 - 500.000 EUR': defaultdict(int,\n",
       "                         {'00-07': 1,\n",
       "                          '07-14': 2,\n",
       "                          '14-16': 1,\n",
       "                          '18-24': 9,\n",
       "                          '24-34': 77,\n",
       "                          '34-44': 206,\n",
       "                          '44-54': 245,\n",
       "                          '54-64': 188,\n",
       "                          'NAD 64': 173,\n",
       "                          'NI PODATKA': 6,\n",
       "                          'PRAVNA OSEBA': 2303}),\n",
       "             'BREZ': defaultdict(int,\n",
       "                         {'00-07': 6593,\n",
       "                          '07-14': 9964,\n",
       "                          '14-16': 10491,\n",
       "                          '16-18': 14715,\n",
       "                          '18-24': 45554,\n",
       "                          '24-34': 74835,\n",
       "                          '34-44': 77155,\n",
       "                          '44-54': 66365,\n",
       "                          '54-64': 43748,\n",
       "                          'NAD 64': 23146,\n",
       "                          'NI PODATKA': 1250,\n",
       "                          'NI POJAVA': 46,\n",
       "                          'PRAVNA OSEBA': 40828}),\n",
       "             'DO 100 EUR': defaultdict(int,\n",
       "                         {'00-07': 1620,\n",
       "                          '07-14': 2283,\n",
       "                          '14-16': 1367,\n",
       "                          '16-18': 2076,\n",
       "                          '18-24': 8113,\n",
       "                          '24-34': 17159,\n",
       "                          '34-44': 18599,\n",
       "                          '44-54': 16362,\n",
       "                          '54-64': 13272,\n",
       "                          'NAD 64': 12787,\n",
       "                          'NI PODATKA': 38,\n",
       "                          'NI POJAVA': 12,\n",
       "                          'PRAVNA OSEBA': 67572}),\n",
       "             'NAD 500.000 EUR': defaultdict(int,\n",
       "                         {'18-24': 2,\n",
       "                          '24-34': 12,\n",
       "                          '34-44': 27,\n",
       "                          '44-54': 41,\n",
       "                          '54-64': 35,\n",
       "                          'NAD 64': 27,\n",
       "                          'PRAVNA OSEBA': 1144})})"
      ]
     },
     "execution_count": 37,
     "metadata": {},
     "output_type": "execute_result"
    }
   ],
   "source": [
    "pijaniMladoletniki = df.groupby(['StarostniRazred', 'Skoda'])\n",
    "skodaStarostStevilo = defaultdict(lambda: defaultdict(int))\n",
    "for name, v in pijaniMladoletniki:\n",
    "    skodaStarostStevilo[name[1]][name[0]] = len(v['ZaporednaStevilkaKD'].unique())\n",
    "\n",
    "skodaStarostStevilo"
   ]
  }
 ],
 "metadata": {
  "interpreter": {
   "hash": "f7b61ccd47a9e364be386714f999f9d62e0ad02ce9d4a287ede88a2de543110b"
  },
  "kernelspec": {
   "display_name": "Python 3 (ipykernel)",
   "language": "python",
   "name": "python3"
  },
  "language_info": {
   "codemirror_mode": {
    "name": "ipython",
    "version": 3
   },
   "file_extension": ".py",
   "mimetype": "text/x-python",
   "name": "python",
   "nbconvert_exporter": "python",
   "pygments_lexer": "ipython3",
   "version": "3.9.0"
  }
 },
 "nbformat": 4,
 "nbformat_minor": 2
}
